{
  "nbformat": 4,
  "nbformat_minor": 0,
  "metadata": {
    "colab": {
      "provenance": [],
      "toc_visible": true
    },
    "kernelspec": {
      "name": "ir",
      "display_name": "R"
    },
    "language_info": {
      "name": "R"
    }
  },
  "cells": [
    {
      "cell_type": "markdown",
      "source": [
        "###Library Installation"
      ],
      "metadata": {
        "id": "Dbz0X0sDYyz0"
      }
    },
    {
      "cell_type": "code",
      "source": [
        "%%R\n",
        "#library installation---\n",
        "install.packages('ROSE')\n",
        "install.packages('rpart')\n",
        "install.packages('rpart.plot')\n",
        "install.packages('caret')\n",
        "\n"
      ],
      "metadata": {
        "colab": {
          "base_uri": "https://localhost:8080/"
        },
        "id": "3F9IQ84UKMxi",
        "outputId": "804c39a1-9d9c-490d-9956-a0f5c53e1ad0"
      },
      "execution_count": 3,
      "outputs": [
        {
          "metadata": {
            "tags": null
          },
          "name": "stderr",
          "output_type": "stream",
          "text": [
            "Installing package into ‘/usr/local/lib/R/site-library’\n",
            "(as ‘lib’ is unspecified)\n",
            "\n",
            "Installing package into ‘/usr/local/lib/R/site-library’\n",
            "(as ‘lib’ is unspecified)\n",
            "\n",
            "Installing package into ‘/usr/local/lib/R/site-library’\n",
            "(as ‘lib’ is unspecified)\n",
            "\n",
            "Installing package into ‘/usr/local/lib/R/site-library’\n",
            "(as ‘lib’ is unspecified)\n",
            "\n",
            "Installing package into ‘/usr/local/lib/R/site-library’\n",
            "(as ‘lib’ is unspecified)\n",
            "\n",
            "Installing package into ‘/usr/local/lib/R/site-library’\n",
            "(as ‘lib’ is unspecified)\n",
            "\n",
            "Installing package into ‘/usr/local/lib/R/site-library’\n",
            "(as ‘lib’ is unspecified)\n",
            "\n",
            "Installing package into ‘/usr/local/lib/R/site-library’\n",
            "(as ‘lib’ is unspecified)\n",
            "\n",
            "also installing the dependencies ‘prodlim’, ‘ipred’, ‘recipes’\n",
            "\n",
            "\n"
          ]
        }
      ]
    },
    {
      "cell_type": "code",
      "source": [
        "install.packages('randomForest')\n",
        "install.packages('e1071')\n",
        "install.packages('xgboost')\n",
        "install.packages('ggplot2')\n",
        "!tar xf library.tar.gz\n",
        ".libPaths('usr/local/lib/R/site-library/')"
      ],
      "metadata": {
        "id": "LWxlWqDTQl3T",
        "colab": {
          "base_uri": "https://localhost:8080/"
        },
        "outputId": "9af2c233-41e3-42f6-b0ee-0b5bcf5ba81d"
      },
      "execution_count": 4,
      "outputs": [
        {
          "output_type": "stream",
          "name": "stderr",
          "text": [
            "Installing package into ‘/usr/local/lib/R/site-library’\n",
            "(as ‘lib’ is unspecified)\n",
            "\n",
            "Installing package into ‘/usr/local/lib/R/site-library’\n",
            "(as ‘lib’ is unspecified)\n",
            "\n",
            "Installing package into ‘/usr/local/lib/R/site-library’\n",
            "(as ‘lib’ is unspecified)\n",
            "\n",
            "Installing package into ‘/usr/local/lib/R/site-library’\n",
            "(as ‘lib’ is unspecified)\n",
            "\n"
          ]
        }
      ]
    },
    {
      "cell_type": "code",
      "execution_count": 5,
      "metadata": {
        "id": "VX1D74V_FfqG",
        "colab": {
          "base_uri": "https://localhost:8080/"
        },
        "outputId": "e30453d0-e65c-4dec-9a81-fcd293812e15"
      },
      "outputs": [
        {
          "output_type": "stream",
          "name": "stdout",
          "text": [
            "No of rows initially: 2126"
          ]
        }
      ],
      "source": [
        "#Data Import----\n",
        "#setwd(\"D:/Practical/VIT/DS R/DataSET\")\n",
        "datax=read.csv(\"fetal_health.csv\")\n",
        "cat(\"No of rows initially:\",nrow(datax))\n",
        "\n"
      ]
    },
    {
      "cell_type": "code",
      "source": [
        "#Removal of Outliers---\n",
        "datar=subset(datax,(fetal_movement<0.0075))\n",
        "datar=subset(datar,(severe_decelerations==0))\n",
        "datar=subset(datar,( mean_value_of_short_term_variability<3.2))\n",
        "datar=subset(datar,(percentage_of_time_with_abnormal_long_term_variability<27.5))\n",
        "datar=subset(datar,(mean_value_of_long_term_variability<20.1))\n",
        "datar=subset(datar,(histogram_number_of_zeroes==0))\n",
        "datar=subset(datar,(histogram_max<207))\n",
        "datar=subset(datar,(histogram_number_of_peaks<12))\n",
        "datar=subset(datar,(histogram_mode>(100.5) & histogram_mode<176.5))\n",
        "datar=subset(datar,(histogram_mean>(95) & histogram_mean<175))\n",
        "datar=subset(datar,(histogram_variance<57))\n",
        "cat(\"\\nNo of rows after removal of outliers \",nrow(datar))\n"
      ],
      "metadata": {
        "id": "DjUiSVzgFqa0",
        "colab": {
          "base_uri": "https://localhost:8080/"
        },
        "outputId": "f7fab467-1a89-4686-9330-a83dd0cca8e5"
      },
      "execution_count": 6,
      "outputs": [
        {
          "output_type": "stream",
          "name": "stdout",
          "text": [
            "\n",
            "No of rows after removal of outliers  991"
          ]
        }
      ]
    },
    {
      "cell_type": "markdown",
      "source": [
        "## OverSampling using Rose"
      ],
      "metadata": {
        "id": "0uGwZsKbY59D"
      }
    },
    {
      "cell_type": "code",
      "source": [
        "#ROSE----\n",
        "library(ROSE)\n",
        "library(caret)\n",
        "p1=prop.table(table(datar$fetal_health))\n",
        "print(p1)"
      ],
      "metadata": {
        "id": "nkmuwlltF_BE",
        "colab": {
          "base_uri": "https://localhost:8080/"
        },
        "outputId": "7d8437f9-b988-4d00-c084-91c86f638ca7"
      },
      "execution_count": 7,
      "outputs": [
        {
          "output_type": "stream",
          "name": "stderr",
          "text": [
            "Loaded ROSE 0.0-4\n",
            "\n",
            "\n",
            "Loading required package: ggplot2\n",
            "\n",
            "Loading required package: lattice\n",
            "\n"
          ]
        },
        {
          "output_type": "stream",
          "name": "stdout",
          "text": [
            "\n",
            "         1          2          3 \n",
            "0.89707366 0.08779011 0.01513623 \n"
          ]
        }
      ]
    },
    {
      "cell_type": "code",
      "source": [
        "data1=subset(datar,(fetal_health<3))\n",
        "data2=subset(datar,(fetal_health==1 | fetal_health==3))\n",
        "db1 <- ovun.sample(fetal_health ~ ., data = data1, method = \"over\", N = 1750, seed = 222)$data\n",
        "print(table(db1$fetal_health))\n"
      ],
      "metadata": {
        "id": "3S7Ky2zmGMRY",
        "colab": {
          "base_uri": "https://localhost:8080/"
        },
        "outputId": "11fafcfc-29ba-4925-87f4-d78bb118876e"
      },
      "execution_count": 8,
      "outputs": [
        {
          "output_type": "stream",
          "name": "stdout",
          "text": [
            "\n",
            "  1   2 \n",
            "889 861 \n"
          ]
        }
      ]
    },
    {
      "cell_type": "code",
      "source": [
        "db2 <- ovun.sample(fetal_health ~ ., data = data2, method = \"over\", N = 1700, seed = 123)$data\n",
        "print(table(db2$fetal_health))\n"
      ],
      "metadata": {
        "id": "wrxAJa7aIBm8",
        "colab": {
          "base_uri": "https://localhost:8080/"
        },
        "outputId": "d1a09fd4-93f8-4837-eed3-1eb577899a7b"
      },
      "execution_count": 9,
      "outputs": [
        {
          "output_type": "stream",
          "name": "stdout",
          "text": [
            "\n",
            "  1   3 \n",
            "889 811 \n"
          ]
        }
      ]
    },
    {
      "cell_type": "code",
      "source": [
        "data_new=rbind(db1,db2[db2$fetal_health==3,])\n",
        "cat(\"\\nNo of rows after oversampling \",nrow(data_new))"
      ],
      "metadata": {
        "id": "maCq7NiHID34",
        "colab": {
          "base_uri": "https://localhost:8080/"
        },
        "outputId": "62ad74e9-6866-43fd-fb86-8d567eab4390"
      },
      "execution_count": 11,
      "outputs": [
        {
          "output_type": "stream",
          "name": "stdout",
          "text": [
            "\n",
            "No of rows after oversampling  2561"
          ]
        }
      ]
    },
    {
      "cell_type": "markdown",
      "source": [
        "##K-Fold Validation\n"
      ],
      "metadata": {
        "id": "1Xf4xAgPZIwq"
      }
    },
    {
      "cell_type": "code",
      "source": [
        "#Test-Train split----\n",
        "set.seed(222)\n",
        "shuffle_index <- sample(1:nrow(data_new))\n",
        "data_new<-data_new[shuffle_index,]\n",
        "id<-sample(2,nrow(data_new),prob=c(0.6,0.4),replace = TRUE)\n",
        "datar_train<-data_new[id==1,]\n",
        "datar_test<-data_new[id==2,]"
      ],
      "metadata": {
        "id": "UtzV3qSVIGRd"
      },
      "execution_count": 12,
      "outputs": []
    },
    {
      "cell_type": "markdown",
      "source": [
        "#Decision Tree\n"
      ],
      "metadata": {
        "id": "tJBVd1VWZMoN"
      }
    },
    {
      "cell_type": "code",
      "source": [
        "#decision tree----\n",
        "library(rpart)\n",
        "library(rpart.plot)\n",
        "set.seed(51)\n",
        "id<-sample(2,nrow(datax),prob=c(0.8,0.2),replace = TRUE)"
      ],
      "metadata": {
        "id": "8f3fC6RdIKvE"
      },
      "execution_count": 13,
      "outputs": []
    },
    {
      "cell_type": "code",
      "source": [
        "data_train<-datax[id==1,]\n",
        "data_test<-datax[id==2,]\n",
        "tree <- rpart(fetal_health~.,data=data_train)\n",
        "rpart.plot(tree)\n"
      ],
      "metadata": {
        "id": "rXm-pURyINMK",
        "colab": {
          "base_uri": "https://localhost:8080/",
          "height": 437
        },
        "outputId": "1d12c11d-7ff8-4921-b1c4-822e8ce3b143"
      },
      "execution_count": 14,
      "outputs": [
        {
          "output_type": "display_data",
          "data": {
            "text/plain": [
              "plot without title"
            ],
            "image/png": "[encoded data removed]"
          },
          "metadata": {
            "image/png": {
              "width": 420,
              "height": 420
            }
          }
        }
      ]
    },
    {
      "cell_type": "code",
      "source": [
        "printcp(tree)\n",
        "prun<-prune(tree, cp= tree$cptable[which.min(tree$cptable[,\"xerror\"]),\"CP\"])\n"
      ],
      "metadata": {
        "id": "RJD6EUTLIQ5T",
        "colab": {
          "base_uri": "https://localhost:8080/"
        },
        "outputId": "13004a70-f4c1-4b16-f50c-3ac261395047"
      },
      "execution_count": 15,
      "outputs": [
        {
          "output_type": "stream",
          "name": "stdout",
          "text": [
            "\n",
            "Regression tree:\n",
            "rpart(formula = fetal_health ~ ., data = data_train)\n",
            "\n",
            "Variables actually used in tree construction:\n",
            "[1] abnormal_short_term_variability                       \n",
            "[2] baseline.value                                        \n",
            "[3] histogram_max                                         \n",
            "[4] histogram_mean                                        \n",
            "[5] mean_value_of_short_term_variability                  \n",
            "[6] percentage_of_time_with_abnormal_long_term_variability\n",
            "[7] prolongued_decelerations                              \n",
            "\n",
            "Root node error: 664.67/1693 = 0.3926\n",
            "\n",
            "n= 1693 \n",
            "\n",
            "         CP nsplit rel error  xerror     xstd\n",
            "1  0.305185      0   1.00000 1.00102 0.047602\n",
            "2  0.264138      1   0.69481 0.77247 0.042577\n",
            "3  0.046982      2   0.43068 0.43718 0.031665\n",
            "4  0.032751      3   0.38369 0.39004 0.030726\n",
            "5  0.026289      4   0.35094 0.35713 0.027678\n",
            "6  0.026079      5   0.32465 0.34397 0.027087\n",
            "7  0.025880      6   0.29857 0.34397 0.027087\n",
            "8  0.017655      7   0.27269 0.32117 0.026140\n",
            "9  0.013941      8   0.25504 0.30169 0.025907\n",
            "10 0.011257      9   0.24110 0.29922 0.026578\n",
            "11 0.010000     10   0.22984 0.29081 0.025787\n"
          ]
        }
      ]
    },
    {
      "cell_type": "code",
      "source": [
        "predicted <-predict(tree,data_test)\n",
        "predicted<-as.integer(predicted)"
      ],
      "metadata": {
        "id": "YG69j_MkJAPJ"
      },
      "execution_count": 16,
      "outputs": []
    },
    {
      "cell_type": "markdown",
      "source": [
        "\n",
        "###Confusion Matrix"
      ],
      "metadata": {
        "id": "1trYPmMnZQTT"
      }
    },
    {
      "cell_type": "code",
      "source": [
        "cmd=table(data_test$fetal_health,predicted)\n",
        "print(cmd)\n",
        "print(confusionMatrix(cmd))\n",
        "\n"
      ],
      "metadata": {
        "id": "OqbCOqJ0IS6-",
        "colab": {
          "base_uri": "https://localhost:8080/"
        },
        "outputId": "b087bba5-7df8-488f-d281-c6a9ea03e8f1"
      },
      "execution_count": 17,
      "outputs": [
        {
          "output_type": "stream",
          "name": "stdout",
          "text": [
            "   predicted\n",
            "      1   2   3\n",
            "  1 348   1   1\n",
            "  2  56   0   0\n",
            "  3   3  16   8\n",
            "Confusion Matrix and Statistics\n",
            "\n",
            "   predicted\n",
            "      1   2   3\n",
            "  1 348   1   1\n",
            "  2  56   0   0\n",
            "  3   3  16   8\n",
            "\n",
            "Overall Statistics\n",
            "                                         \n",
            "               Accuracy : 0.8222         \n",
            "                 95% CI : (0.7828, 0.857)\n",
            "    No Information Rate : 0.94           \n",
            "    P-Value [Acc > NIR] : 1              \n",
            "                                         \n",
            "                  Kappa : 0.2396         \n",
            "                                         \n",
            " Mcnemar's Test P-Value : 4.123e-15      \n",
            "\n",
            "Statistics by Class:\n",
            "\n",
            "                     Class: 1 Class: 2 Class: 3\n",
            "Sensitivity            0.8550  0.00000  0.88889\n",
            "Specificity            0.9231  0.86538  0.95519\n",
            "Pos Pred Value         0.9943  0.00000  0.29630\n",
            "Neg Pred Value         0.2892  0.95491  0.99754\n",
            "Prevalence             0.9400  0.03926  0.02079\n",
            "Detection Rate         0.8037  0.00000  0.01848\n",
            "Detection Prevalence   0.8083  0.12933  0.06236\n",
            "Balanced Accuracy      0.8891  0.43269  0.92204\n"
          ]
        }
      ]
    },
    {
      "cell_type": "markdown",
      "source": [
        "#Random Forest"
      ],
      "metadata": {
        "id": "PsrwDRsVZaNl"
      }
    },
    {
      "cell_type": "code",
      "source": [
        "#Random Forest----\n",
        "library(randomForest)\n",
        "datar_train$fetal_health=as.factor(datar_train$fetal_health)\n",
        "rf <- randomForest(fetal_health~.,data = datar_train,ntree = 300,mtry = 8,proximity = TRUE,)\n",
        "print(rf)"
      ],
      "metadata": {
        "id": "aArFFsroJFHA",
        "colab": {
          "base_uri": "https://localhost:8080/"
        },
        "outputId": "19829fa8-39ae-48dc-9bd7-0ef217c8d3a1"
      },
      "execution_count": 18,
      "outputs": [
        {
          "output_type": "stream",
          "name": "stderr",
          "text": [
            "randomForest 4.7-1.1\n",
            "\n",
            "Type rfNews() to see new features/changes/bug fixes.\n",
            "\n",
            "\n",
            "Attaching package: ‘randomForest’\n",
            "\n",
            "\n",
            "The following object is masked from ‘package:ggplot2’:\n",
            "\n",
            "    margin\n",
            "\n",
            "\n"
          ]
        },
        {
          "output_type": "stream",
          "name": "stdout",
          "text": [
            "\n",
            "Call:\n",
            " randomForest(formula = fetal_health ~ ., data = datar_train,      ntree = 300, mtry = 8, proximity = TRUE, ) \n",
            "               Type of random forest: classification\n",
            "                     Number of trees: 300\n",
            "No. of variables tried at each split: 8\n",
            "\n",
            "        OOB estimate of  error rate: 0.99%\n",
            "Confusion matrix:\n",
            "    1   2   3 class.error\n",
            "1 546  16   0  0.02846975\n",
            "2   0 541   0  0.00000000\n",
            "3   0   0 519  0.00000000\n"
          ]
        }
      ]
    },
    {
      "cell_type": "code",
      "source": [
        "attributes(rf)\n"
      ],
      "metadata": {
        "id": "q7DpWO-dJHAn",
        "colab": {
          "base_uri": "https://localhost:8080/",
          "height": 114
        },
        "outputId": "0be34543-f5df-4e68-b810-82d65840bee7"
      },
      "execution_count": 19,
      "outputs": [
        {
          "output_type": "display_data",
          "data": {
            "text/html": [
              "<dl>\n",
              "\t<dt>$names</dt>\n",
              "\t\t<dd><style>\n",
              ".list-inline {list-style: none; margin:0; padding: 0}\n",
              ".list-inline>li {display: inline-block}\n",
              ".list-inline>li:not(:last-child)::after {content: \"\\00b7\"; padding: 0 .5ex}\n",
              "</style>\n",
              "<ol class=list-inline><li>'call'</li><li>'type'</li><li>'predicted'</li><li>'err.rate'</li><li>'confusion'</li><li>'votes'</li><li>'oob.times'</li><li>'classes'</li><li>'importance'</li><li>'importanceSD'</li><li>'localImportance'</li><li>'proximity'</li><li>'ntree'</li><li>'mtry'</li><li>'forest'</li><li>'y'</li><li>'test'</li><li>'inbag'</li><li>'terms'</li></ol>\n",
              "</dd>\n",
              "\t<dt>$class</dt>\n",
              "\t\t<dd><style>\n",
              ".list-inline {list-style: none; margin:0; padding: 0}\n",
              ".list-inline>li {display: inline-block}\n",
              ".list-inline>li:not(:last-child)::after {content: \"\\00b7\"; padding: 0 .5ex}\n",
              "</style>\n",
              "<ol class=list-inline><li>'randomForest.formula'</li><li>'randomForest'</li></ol>\n",
              "</dd>\n",
              "</dl>\n"
            ],
            "text/markdown": "$names\n:   1. 'call'\n2. 'type'\n3. 'predicted'\n4. 'err.rate'\n5. 'confusion'\n6. 'votes'\n7. 'oob.times'\n8. 'classes'\n9. 'importance'\n10. 'importanceSD'\n11. 'localImportance'\n12. 'proximity'\n13. 'ntree'\n14. 'mtry'\n15. 'forest'\n16. 'y'\n17. 'test'\n18. 'inbag'\n19. 'terms'\n\n\n\n$class\n:   1. 'randomForest.formula'\n2. 'randomForest'\n\n\n\n\n\n",
            "text/latex": "\\begin{description}\n\\item[\\$names] \\begin{enumerate*}\n\\item 'call'\n\\item 'type'\n\\item 'predicted'\n\\item 'err.rate'\n\\item 'confusion'\n\\item 'votes'\n\\item 'oob.times'\n\\item 'classes'\n\\item 'importance'\n\\item 'importanceSD'\n\\item 'localImportance'\n\\item 'proximity'\n\\item 'ntree'\n\\item 'mtry'\n\\item 'forest'\n\\item 'y'\n\\item 'test'\n\\item 'inbag'\n\\item 'terms'\n\\end{enumerate*}\n\n\\item[\\$class] \\begin{enumerate*}\n\\item 'randomForest.formula'\n\\item 'randomForest'\n\\end{enumerate*}\n\n\\end{description}\n",
            "text/plain": [
              "$names\n",
              " [1] \"call\"            \"type\"            \"predicted\"       \"err.rate\"       \n",
              " [5] \"confusion\"       \"votes\"           \"oob.times\"       \"classes\"        \n",
              " [9] \"importance\"      \"importanceSD\"    \"localImportance\" \"proximity\"      \n",
              "[13] \"ntree\"           \"mtry\"            \"forest\"          \"y\"              \n",
              "[17] \"test\"            \"inbag\"           \"terms\"          \n",
              "\n",
              "$class\n",
              "[1] \"randomForest.formula\" \"randomForest\"        \n"
            ]
          },
          "metadata": {}
        }
      ]
    },
    {
      "cell_type": "markdown",
      "source": [
        "###Confusion Matrix"
      ],
      "metadata": {
        "id": "ZJtxtRgCZXFZ"
      }
    },
    {
      "cell_type": "code",
      "source": [
        "# Prediction & Confusion Matrix - train data\n",
        "p1 <- predict(rf, datar_train)\n",
        "confusionMatrix(p1, datar_train$fetal_health)\n",
        "print(confusionMatrix(p1,datar_train$fetal_health))\n"
      ],
      "metadata": {
        "id": "Atdpup5rJP6E",
        "colab": {
          "base_uri": "https://localhost:8080/",
          "height": 1000
        },
        "outputId": "fde996f1-7282-418f-ab21-e3e464194203"
      },
      "execution_count": 20,
      "outputs": [
        {
          "output_type": "display_data",
          "data": {
            "text/plain": [
              "Confusion Matrix and Statistics\n",
              "\n",
              "          Reference\n",
              "Prediction   1   2   3\n",
              "         1 561   0   0\n",
              "         2   1 541   0\n",
              "         3   0   0 519\n",
              "\n",
              "Overall Statistics\n",
              "                                     \n",
              "               Accuracy : 0.9994     \n",
              "                 95% CI : (0.9966, 1)\n",
              "    No Information Rate : 0.3465     \n",
              "    P-Value [Acc > NIR] : < 2.2e-16  \n",
              "                                     \n",
              "                  Kappa : 0.9991     \n",
              "                                     \n",
              " Mcnemar's Test P-Value : NA         \n",
              "\n",
              "Statistics by Class:\n",
              "\n",
              "                     Class: 1 Class: 2 Class: 3\n",
              "Sensitivity            0.9982   1.0000     1.00\n",
              "Specificity            1.0000   0.9991     1.00\n",
              "Pos Pred Value         1.0000   0.9982     1.00\n",
              "Neg Pred Value         0.9991   1.0000     1.00\n",
              "Prevalence             0.3465   0.3335     0.32\n",
              "Detection Rate         0.3459   0.3335     0.32\n",
              "Detection Prevalence   0.3459   0.3342     0.32\n",
              "Balanced Accuracy      0.9991   0.9995     1.00"
            ]
          },
          "metadata": {}
        },
        {
          "output_type": "stream",
          "name": "stdout",
          "text": [
            "Confusion Matrix and Statistics\n",
            "\n",
            "          Reference\n",
            "Prediction   1   2   3\n",
            "         1 561   0   0\n",
            "         2   1 541   0\n",
            "         3   0   0 519\n",
            "\n",
            "Overall Statistics\n",
            "                                     \n",
            "               Accuracy : 0.9994     \n",
            "                 95% CI : (0.9966, 1)\n",
            "    No Information Rate : 0.3465     \n",
            "    P-Value [Acc > NIR] : < 2.2e-16  \n",
            "                                     \n",
            "                  Kappa : 0.9991     \n",
            "                                     \n",
            " Mcnemar's Test P-Value : NA         \n",
            "\n",
            "Statistics by Class:\n",
            "\n",
            "                     Class: 1 Class: 2 Class: 3\n",
            "Sensitivity            0.9982   1.0000     1.00\n",
            "Specificity            1.0000   0.9991     1.00\n",
            "Pos Pred Value         1.0000   0.9982     1.00\n",
            "Neg Pred Value         0.9991   1.0000     1.00\n",
            "Prevalence             0.3465   0.3335     0.32\n",
            "Detection Rate         0.3459   0.3335     0.32\n",
            "Detection Prevalence   0.3459   0.3342     0.32\n",
            "Balanced Accuracy      0.9991   0.9995     1.00\n"
          ]
        }
      ]
    },
    {
      "cell_type": "code",
      "source": [
        "# Prediction & Confusion Matrix - test data\n",
        "p2 <- predict(rf, newdata=datar_test)\n",
        "confusionMatrix(p2, as.factor(datar_test$fetal_health))\n"
      ],
      "metadata": {
        "id": "V3GVH_FCJUyw",
        "colab": {
          "base_uri": "https://localhost:8080/",
          "height": 564
        },
        "outputId": "4336773d-f87a-420b-86ef-65698e5d20b8"
      },
      "execution_count": 21,
      "outputs": [
        {
          "output_type": "display_data",
          "data": {
            "text/plain": [
              "Confusion Matrix and Statistics\n",
              "\n",
              "          Reference\n",
              "Prediction   1   2   3\n",
              "         1 320   3   0\n",
              "         2   7 317   0\n",
              "         3   0   0 292\n",
              "\n",
              "Overall Statistics\n",
              "                                          \n",
              "               Accuracy : 0.9894          \n",
              "                 95% CI : (0.9805, 0.9949)\n",
              "    No Information Rate : 0.3482          \n",
              "    P-Value [Acc > NIR] : < 2.2e-16       \n",
              "                                          \n",
              "                  Kappa : 0.984           \n",
              "                                          \n",
              " Mcnemar's Test P-Value : NA              \n",
              "\n",
              "Statistics by Class:\n",
              "\n",
              "                     Class: 1 Class: 2 Class: 3\n",
              "Sensitivity            0.9786   0.9906    1.000\n",
              "Specificity            0.9951   0.9887    1.000\n",
              "Pos Pred Value         0.9907   0.9784    1.000\n",
              "Neg Pred Value         0.9886   0.9951    1.000\n",
              "Prevalence             0.3482   0.3408    0.311\n",
              "Detection Rate         0.3408   0.3376    0.311\n",
              "Detection Prevalence   0.3440   0.3450    0.311\n",
              "Balanced Accuracy      0.9868   0.9897    1.000"
            ]
          },
          "metadata": {}
        }
      ]
    },
    {
      "cell_type": "code",
      "source": [
        "plot(rf)\n"
      ],
      "metadata": {
        "id": "2djCa7bwJliB",
        "colab": {
          "base_uri": "https://localhost:8080/",
          "height": 437
        },
        "outputId": "582ae97b-5ae0-487d-fa24-c966a2d32882"
      },
      "execution_count": 22,
      "outputs": [
        {
          "output_type": "display_data",
          "data": {
            "text/plain": [
              "Plot with title “rf”"
            ],
            "image/png": "[encoded data removed]"
          },
          "metadata": {
            "image/png": {
              "width": 420,
              "height": 420
            }
          }
        }
      ]
    },
    {
      "cell_type": "code",
      "source": [
        "#Histogram\n",
        "hist(treesize(rf),main = \"No. of Nodes for the Trees\",col = \"green\")\n"
      ],
      "metadata": {
        "id": "hhRi8NNLJWaW",
        "colab": {
          "base_uri": "https://localhost:8080/",
          "height": 437
        },
        "outputId": "232a7ac2-6341-43f3-8dad-0b6e67e2956e"
      },
      "execution_count": 23,
      "outputs": [
        {
          "output_type": "display_data",
          "data": {
            "text/plain": [
              "Plot with title “No. of Nodes for the Trees”"
            ],
            "image/png": "[encoded data removed]"
          },
          "metadata": {
            "image/png": {
              "width": 420,
              "height": 420
            }
          }
        }
      ]
    },
    {
      "cell_type": "code",
      "source": [
        "# Variable Importance\n",
        "varImpPlot(rf,sort = T,n.var = 10,main = \"Top 10 - Variable Importance\")\n",
        "importance(rf)\n",
        "varUsed(rf)\n"
      ],
      "metadata": {
        "id": "ElJgDF-wJmzv",
        "colab": {
          "base_uri": "https://localhost:8080/",
          "height": 1000
        },
        "outputId": "5ae0dcf3-940f-4ec6-9df2-44538c15a5e2"
      },
      "execution_count": 24,
      "outputs": [
        {
          "output_type": "display_data",
          "data": {
            "text/html": [
              "<table class=\"dataframe\">\n",
              "<caption>A matrix: 21 × 1 of type dbl</caption>\n",
              "<thead>\n",
              "\t<tr><th></th><th scope=col>MeanDecreaseGini</th></tr>\n",
              "</thead>\n",
              "<tbody>\n",
              "\t<tr><th scope=row>baseline.value</th><td> 60.003791</td></tr>\n",
              "\t<tr><th scope=row>accelerations</th><td>137.783162</td></tr>\n",
              "\t<tr><th scope=row>fetal_movement</th><td> 15.996513</td></tr>\n",
              "\t<tr><th scope=row>uterine_contractions</th><td> 23.191382</td></tr>\n",
              "\t<tr><th scope=row>light_decelerations</th><td>  3.395901</td></tr>\n",
              "\t<tr><th scope=row>severe_decelerations</th><td>  0.000000</td></tr>\n",
              "\t<tr><th scope=row>prolongued_decelerations</th><td> 24.793961</td></tr>\n",
              "\t<tr><th scope=row>abnormal_short_term_variability</th><td>276.610223</td></tr>\n",
              "\t<tr><th scope=row>mean_value_of_short_term_variability</th><td> 53.211456</td></tr>\n",
              "\t<tr><th scope=row>percentage_of_time_with_abnormal_long_term_variability</th><td> 62.315533</td></tr>\n",
              "\t<tr><th scope=row>mean_value_of_long_term_variability</th><td> 27.533513</td></tr>\n",
              "\t<tr><th scope=row>histogram_width</th><td> 16.188243</td></tr>\n",
              "\t<tr><th scope=row>histogram_min</th><td> 22.900112</td></tr>\n",
              "\t<tr><th scope=row>histogram_max</th><td> 22.612956</td></tr>\n",
              "\t<tr><th scope=row>histogram_number_of_peaks</th><td> 12.930094</td></tr>\n",
              "\t<tr><th scope=row>histogram_number_of_zeroes</th><td>  0.000000</td></tr>\n",
              "\t<tr><th scope=row>histogram_mode</th><td> 49.807349</td></tr>\n",
              "\t<tr><th scope=row>histogram_mean</th><td>115.466694</td></tr>\n",
              "\t<tr><th scope=row>histogram_median</th><td>131.178729</td></tr>\n",
              "\t<tr><th scope=row>histogram_variance</th><td> 16.045589</td></tr>\n",
              "\t<tr><th scope=row>histogram_tendency</th><td>  6.529651</td></tr>\n",
              "</tbody>\n",
              "</table>\n"
            ],
            "text/markdown": "\nA matrix: 21 × 1 of type dbl\n\n| <!--/--> | MeanDecreaseGini |\n|---|---|\n| baseline.value |  60.003791 |\n| accelerations | 137.783162 |\n| fetal_movement |  15.996513 |\n| uterine_contractions |  23.191382 |\n| light_decelerations |   3.395901 |\n| severe_decelerations |   0.000000 |\n| prolongued_decelerations |  24.793961 |\n| abnormal_short_term_variability | 276.610223 |\n| mean_value_of_short_term_variability |  53.211456 |\n| percentage_of_time_with_abnormal_long_term_variability |  62.315533 |\n| mean_value_of_long_term_variability |  27.533513 |\n| histogram_width |  16.188243 |\n| histogram_min |  22.900112 |\n| histogram_max |  22.612956 |\n| histogram_number_of_peaks |  12.930094 |\n| histogram_number_of_zeroes |   0.000000 |\n| histogram_mode |  49.807349 |\n| histogram_mean | 115.466694 |\n| histogram_median | 131.178729 |\n| histogram_variance |  16.045589 |\n| histogram_tendency |   6.529651 |\n\n",
            "text/latex": "A matrix: 21 × 1 of type dbl\n\\begin{tabular}{r|l}\n  & MeanDecreaseGini\\\\\n\\hline\n\tbaseline.value &  60.003791\\\\\n\taccelerations & 137.783162\\\\\n\tfetal\\_movement &  15.996513\\\\\n\tuterine\\_contractions &  23.191382\\\\\n\tlight\\_decelerations &   3.395901\\\\\n\tsevere\\_decelerations &   0.000000\\\\\n\tprolongued\\_decelerations &  24.793961\\\\\n\tabnormal\\_short\\_term\\_variability & 276.610223\\\\\n\tmean\\_value\\_of\\_short\\_term\\_variability &  53.211456\\\\\n\tpercentage\\_of\\_time\\_with\\_abnormal\\_long\\_term\\_variability &  62.315533\\\\\n\tmean\\_value\\_of\\_long\\_term\\_variability &  27.533513\\\\\n\thistogram\\_width &  16.188243\\\\\n\thistogram\\_min &  22.900112\\\\\n\thistogram\\_max &  22.612956\\\\\n\thistogram\\_number\\_of\\_peaks &  12.930094\\\\\n\thistogram\\_number\\_of\\_zeroes &   0.000000\\\\\n\thistogram\\_mode &  49.807349\\\\\n\thistogram\\_mean & 115.466694\\\\\n\thistogram\\_median & 131.178729\\\\\n\thistogram\\_variance &  16.045589\\\\\n\thistogram\\_tendency &   6.529651\\\\\n\\end{tabular}\n",
            "text/plain": [
              "                                                       MeanDecreaseGini\n",
              "baseline.value                                          60.003791      \n",
              "accelerations                                          137.783162      \n",
              "fetal_movement                                          15.996513      \n",
              "uterine_contractions                                    23.191382      \n",
              "light_decelerations                                      3.395901      \n",
              "severe_decelerations                                     0.000000      \n",
              "prolongued_decelerations                                24.793961      \n",
              "abnormal_short_term_variability                        276.610223      \n",
              "mean_value_of_short_term_variability                    53.211456      \n",
              "percentage_of_time_with_abnormal_long_term_variability  62.315533      \n",
              "mean_value_of_long_term_variability                     27.533513      \n",
              "histogram_width                                         16.188243      \n",
              "histogram_min                                           22.900112      \n",
              "histogram_max                                           22.612956      \n",
              "histogram_number_of_peaks                               12.930094      \n",
              "histogram_number_of_zeroes                               0.000000      \n",
              "histogram_mode                                          49.807349      \n",
              "histogram_mean                                         115.466694      \n",
              "histogram_median                                       131.178729      \n",
              "histogram_variance                                      16.045589      \n",
              "histogram_tendency                                       6.529651      "
            ]
          },
          "metadata": {}
        },
        {
          "output_type": "display_data",
          "data": {
            "text/html": [
              "<style>\n",
              ".list-inline {list-style: none; margin:0; padding: 0}\n",
              ".list-inline>li {display: inline-block}\n",
              ".list-inline>li:not(:last-child)::after {content: \"\\00b7\"; padding: 0 .5ex}\n",
              "</style>\n",
              "<ol class=list-inline><li>854</li><li>782</li><li>371</li><li>812</li><li>182</li><li>0</li><li>167</li><li>1808</li><li>707</li><li>1166</li><li>1150</li><li>805</li><li>829</li><li>912</li><li>507</li><li>0</li><li>718</li><li>976</li><li>1091</li><li>586</li><li>172</li></ol>\n"
            ],
            "text/markdown": "1. 854\n2. 782\n3. 371\n4. 812\n5. 182\n6. 0\n7. 167\n8. 1808\n9. 707\n10. 1166\n11. 1150\n12. 805\n13. 829\n14. 912\n15. 507\n16. 0\n17. 718\n18. 976\n19. 1091\n20. 586\n21. 172\n\n\n",
            "text/latex": "\\begin{enumerate*}\n\\item 854\n\\item 782\n\\item 371\n\\item 812\n\\item 182\n\\item 0\n\\item 167\n\\item 1808\n\\item 707\n\\item 1166\n\\item 1150\n\\item 805\n\\item 829\n\\item 912\n\\item 507\n\\item 0\n\\item 718\n\\item 976\n\\item 1091\n\\item 586\n\\item 172\n\\end{enumerate*}\n",
            "text/plain": [
              " [1]  854  782  371  812  182    0  167 1808  707 1166 1150  805  829  912  507\n",
              "[16]    0  718  976 1091  586  172"
            ]
          },
          "metadata": {}
        },
        {
          "output_type": "display_data",
          "data": {
            "text/plain": [
              "Plot with title “Top 10 - Variable Importance”"
            ],
            "image/png": "[encoded data removed]"
          },
          "metadata": {
            "image/png": {
              "width": 420,
              "height": 420
            }
          }
        }
      ]
    },
    {
      "cell_type": "markdown",
      "source": [
        "#Naive Bayes"
      ],
      "metadata": {
        "id": "nxGlt90fZfSM"
      }
    },
    {
      "cell_type": "code",
      "source": [
        "#Naive Bayes----\n",
        "library(e1071)\n",
        "nb=naiveBayes(fetal_health ~ ., data = datar_train)\n",
        "pred=predict(nb,datar_test)\n",
        "print(attributes(nb))\n"
      ],
      "metadata": {
        "id": "9Dp3831vJoyw",
        "colab": {
          "base_uri": "https://localhost:8080/"
        },
        "outputId": "cf243c31-e1ab-4a54-e02c-23db11d301c1"
      },
      "execution_count": 25,
      "outputs": [
        {
          "output_type": "stream",
          "name": "stdout",
          "text": [
            "$names\n",
            "[1] \"apriori\"   \"tables\"    \"levels\"    \"isnumeric\" \"call\"     \n",
            "\n",
            "$class\n",
            "[1] \"naiveBayes\"\n",
            "\n"
          ]
        }
      ]
    },
    {
      "cell_type": "markdown",
      "source": [
        "###Confusion Matrix"
      ],
      "metadata": {
        "id": "UzL8bRRUZlU6"
      }
    },
    {
      "cell_type": "code",
      "source": [
        "#Confusion Matrix\n",
        "cm=table(datar_test$fetal_health,pred)\n",
        "print(cm)\n",
        "print(confusionMatrix(cm))"
      ],
      "metadata": {
        "id": "jk-rZoXuJtOy",
        "colab": {
          "base_uri": "https://localhost:8080/"
        },
        "outputId": "92a5e849-3d34-4748-d9fe-1711981afac0"
      },
      "execution_count": 26,
      "outputs": [
        {
          "output_type": "stream",
          "name": "stdout",
          "text": [
            "   pred\n",
            "      1   2   3\n",
            "  1 254  49  24\n",
            "  2   7 304   9\n",
            "  3   0  88 204\n",
            "Confusion Matrix and Statistics\n",
            "\n",
            "   pred\n",
            "      1   2   3\n",
            "  1 254  49  24\n",
            "  2   7 304   9\n",
            "  3   0  88 204\n",
            "\n",
            "Overall Statistics\n",
            "                                        \n",
            "               Accuracy : 0.8115        \n",
            "                 95% CI : (0.785, 0.836)\n",
            "    No Information Rate : 0.4696        \n",
            "    P-Value [Acc > NIR] : < 2.2e-16     \n",
            "                                        \n",
            "                  Kappa : 0.7164        \n",
            "                                        \n",
            " Mcnemar's Test P-Value : < 2.2e-16     \n",
            "\n",
            "Statistics by Class:\n",
            "\n",
            "                     Class: 1 Class: 2 Class: 3\n",
            "Sensitivity            0.9732   0.6893   0.8608\n",
            "Specificity            0.8923   0.9679   0.8746\n",
            "Pos Pred Value         0.7768   0.9500   0.6986\n",
            "Neg Pred Value         0.9886   0.7787   0.9490\n",
            "Prevalence             0.2780   0.4696   0.2524\n",
            "Detection Rate         0.2705   0.3237   0.2173\n",
            "Detection Prevalence   0.3482   0.3408   0.3110\n",
            "Balanced Accuracy      0.9328   0.8286   0.8677\n"
          ]
        }
      ]
    },
    {
      "cell_type": "markdown",
      "source": [
        "#XGBoost\n"
      ],
      "metadata": {
        "id": "tsjGRVxoZnRH"
      }
    },
    {
      "cell_type": "code",
      "source": [
        "#XGBoost----\n",
        "library(xgboost)\n",
        "#Train-Test split acc to XGBoost\n",
        "y_train=as.factor(datar_train$fetal_health)\n",
        "y_test=as.factor(datar_test$fetal_health)\n",
        "x_train=as.matrix(datar_train[,1:21])\n",
        "x_test=as.matrix(datar_test[,1:21])\n",
        "xgboost_train = xgb.DMatrix(data=x_train, label=y_train)\n",
        "xgboost_test  = xgb.DMatrix(data=x_test, label=y_test)"
      ],
      "metadata": {
        "id": "MKtbEacWJvlw"
      },
      "execution_count": 27,
      "outputs": []
    },
    {
      "cell_type": "code",
      "source": [
        "#define watchlist\n",
        "watchlist = list(train=xgboost_train, test=xgboost_test)\n",
        "model = xgb.train(data = xgboost_train, max.depth = 5, watchlist=watchlist, nrounds = 500)"
      ],
      "metadata": {
        "id": "cVTXgdA4Jy08",
        "colab": {
          "base_uri": "https://localhost:8080/"
        },
        "outputId": "26e5f237-436e-4289-efa7-160688a03a48"
      },
      "execution_count": 28,
      "outputs": [
        {
          "output_type": "stream",
          "name": "stdout",
          "text": [
            "[1]\ttrain-rmse:1.190792\ttest-rmse:1.180947 \n",
            "[2]\ttrain-rmse:0.846599\ttest-rmse:0.839729 \n",
            "[3]\ttrain-rmse:0.603126\ttest-rmse:0.599703 \n",
            "[4]\ttrain-rmse:0.434437\ttest-rmse:0.435431 \n",
            "[5]\ttrain-rmse:0.319493\ttest-rmse:0.325222 \n",
            "[6]\ttrain-rmse:0.242438\ttest-rmse:0.253441 \n",
            "[7]\ttrain-rmse:0.187518\ttest-rmse:0.207708 \n",
            "[8]\ttrain-rmse:0.152009\ttest-rmse:0.180602 \n",
            "[9]\ttrain-rmse:0.126201\ttest-rmse:0.160086 \n",
            "[10]\ttrain-rmse:0.106773\ttest-rmse:0.149034 \n",
            "[11]\ttrain-rmse:0.095730\ttest-rmse:0.142993 \n",
            "[12]\ttrain-rmse:0.089347\ttest-rmse:0.139192 \n",
            "[13]\ttrain-rmse:0.083419\ttest-rmse:0.135045 \n",
            "[14]\ttrain-rmse:0.076105\ttest-rmse:0.132862 \n",
            "[15]\ttrain-rmse:0.069558\ttest-rmse:0.130624 \n",
            "[16]\ttrain-rmse:0.068121\ttest-rmse:0.130334 \n",
            "[17]\ttrain-rmse:0.065258\ttest-rmse:0.129498 \n",
            "[18]\ttrain-rmse:0.064532\ttest-rmse:0.129506 \n",
            "[19]\ttrain-rmse:0.061302\ttest-rmse:0.128457 \n",
            "[20]\ttrain-rmse:0.058175\ttest-rmse:0.127403 \n",
            "[21]\ttrain-rmse:0.056084\ttest-rmse:0.126521 \n",
            "[22]\ttrain-rmse:0.053660\ttest-rmse:0.126136 \n",
            "[23]\ttrain-rmse:0.050682\ttest-rmse:0.124978 \n",
            "[24]\ttrain-rmse:0.048146\ttest-rmse:0.124618 \n",
            "[25]\ttrain-rmse:0.047732\ttest-rmse:0.124458 \n",
            "[26]\ttrain-rmse:0.046933\ttest-rmse:0.124431 \n",
            "[27]\ttrain-rmse:0.045211\ttest-rmse:0.123117 \n",
            "[28]\ttrain-rmse:0.044664\ttest-rmse:0.123003 \n",
            "[29]\ttrain-rmse:0.043355\ttest-rmse:0.121652 \n",
            "[30]\ttrain-rmse:0.042468\ttest-rmse:0.121079 \n",
            "[31]\ttrain-rmse:0.040269\ttest-rmse:0.121060 \n",
            "[32]\ttrain-rmse:0.039626\ttest-rmse:0.120964 \n",
            "[33]\ttrain-rmse:0.037777\ttest-rmse:0.120537 \n",
            "[34]\ttrain-rmse:0.037411\ttest-rmse:0.120261 \n",
            "[35]\ttrain-rmse:0.037100\ttest-rmse:0.120174 \n",
            "[36]\ttrain-rmse:0.036408\ttest-rmse:0.120072 \n",
            "[37]\ttrain-rmse:0.035697\ttest-rmse:0.119836 \n",
            "[38]\ttrain-rmse:0.035444\ttest-rmse:0.119801 \n",
            "[39]\ttrain-rmse:0.035098\ttest-rmse:0.119755 \n",
            "[40]\ttrain-rmse:0.034857\ttest-rmse:0.119732 \n",
            "[41]\ttrain-rmse:0.033547\ttest-rmse:0.119671 \n",
            "[42]\ttrain-rmse:0.032406\ttest-rmse:0.119420 \n",
            "[43]\ttrain-rmse:0.031257\ttest-rmse:0.119414 \n",
            "[44]\ttrain-rmse:0.031193\ttest-rmse:0.119351 \n",
            "[45]\ttrain-rmse:0.030365\ttest-rmse:0.119264 \n",
            "[46]\ttrain-rmse:0.029638\ttest-rmse:0.119076 \n",
            "[47]\ttrain-rmse:0.029017\ttest-rmse:0.118777 \n",
            "[48]\ttrain-rmse:0.028855\ttest-rmse:0.118808 \n",
            "[49]\ttrain-rmse:0.028758\ttest-rmse:0.118794 \n",
            "[50]\ttrain-rmse:0.028611\ttest-rmse:0.118809 \n",
            "[51]\ttrain-rmse:0.027916\ttest-rmse:0.118754 \n",
            "[52]\ttrain-rmse:0.027877\ttest-rmse:0.118736 \n",
            "[53]\ttrain-rmse:0.027432\ttest-rmse:0.118768 \n",
            "[54]\ttrain-rmse:0.027096\ttest-rmse:0.118771 \n",
            "[55]\ttrain-rmse:0.026843\ttest-rmse:0.118824 \n",
            "[56]\ttrain-rmse:0.026366\ttest-rmse:0.118734 \n",
            "[57]\ttrain-rmse:0.026308\ttest-rmse:0.118736 \n",
            "[58]\ttrain-rmse:0.026100\ttest-rmse:0.118838 \n",
            "[59]\ttrain-rmse:0.025697\ttest-rmse:0.118604 \n",
            "[60]\ttrain-rmse:0.025478\ttest-rmse:0.118736 \n",
            "[61]\ttrain-rmse:0.025180\ttest-rmse:0.118768 \n",
            "[62]\ttrain-rmse:0.025066\ttest-rmse:0.118741 \n",
            "[63]\ttrain-rmse:0.025018\ttest-rmse:0.118735 \n",
            "[64]\ttrain-rmse:0.024910\ttest-rmse:0.118738 \n",
            "[65]\ttrain-rmse:0.024669\ttest-rmse:0.118753 \n",
            "[66]\ttrain-rmse:0.024402\ttest-rmse:0.118631 \n",
            "[67]\ttrain-rmse:0.024297\ttest-rmse:0.118671 \n",
            "[68]\ttrain-rmse:0.024286\ttest-rmse:0.118666 \n",
            "[69]\ttrain-rmse:0.024175\ttest-rmse:0.118621 \n",
            "[70]\ttrain-rmse:0.023984\ttest-rmse:0.118587 \n",
            "[71]\ttrain-rmse:0.023843\ttest-rmse:0.118592 \n",
            "[72]\ttrain-rmse:0.023682\ttest-rmse:0.118481 \n",
            "[73]\ttrain-rmse:0.023638\ttest-rmse:0.118405 \n",
            "[74]\ttrain-rmse:0.023592\ttest-rmse:0.118403 \n",
            "[75]\ttrain-rmse:0.023431\ttest-rmse:0.118282 \n",
            "[76]\ttrain-rmse:0.023341\ttest-rmse:0.118249 \n",
            "[77]\ttrain-rmse:0.023280\ttest-rmse:0.118241 \n",
            "[78]\ttrain-rmse:0.023240\ttest-rmse:0.118228 \n",
            "[79]\ttrain-rmse:0.023118\ttest-rmse:0.118242 \n",
            "[80]\ttrain-rmse:0.023074\ttest-rmse:0.118252 \n",
            "[81]\ttrain-rmse:0.022983\ttest-rmse:0.118276 \n",
            "[82]\ttrain-rmse:0.022962\ttest-rmse:0.118206 \n",
            "[83]\ttrain-rmse:0.022954\ttest-rmse:0.118197 \n",
            "[84]\ttrain-rmse:0.022839\ttest-rmse:0.118063 \n",
            "[85]\ttrain-rmse:0.022780\ttest-rmse:0.118030 \n",
            "[86]\ttrain-rmse:0.022689\ttest-rmse:0.118024 \n",
            "[87]\ttrain-rmse:0.022635\ttest-rmse:0.118011 \n",
            "[88]\ttrain-rmse:0.022619\ttest-rmse:0.118043 \n",
            "[89]\ttrain-rmse:0.022608\ttest-rmse:0.118045 \n",
            "[90]\ttrain-rmse:0.022526\ttest-rmse:0.118079 \n",
            "[91]\ttrain-rmse:0.022478\ttest-rmse:0.118029 \n",
            "[92]\ttrain-rmse:0.022388\ttest-rmse:0.117961 \n",
            "[93]\ttrain-rmse:0.022354\ttest-rmse:0.117989 \n",
            "[94]\ttrain-rmse:0.022339\ttest-rmse:0.117982 \n",
            "[95]\ttrain-rmse:0.022334\ttest-rmse:0.117977 \n",
            "[96]\ttrain-rmse:0.022263\ttest-rmse:0.117931 \n",
            "[97]\ttrain-rmse:0.022258\ttest-rmse:0.117926 \n",
            "[98]\ttrain-rmse:0.022226\ttest-rmse:0.117903 \n",
            "[99]\ttrain-rmse:0.022204\ttest-rmse:0.117844 \n",
            "[100]\ttrain-rmse:0.022188\ttest-rmse:0.117785 \n",
            "[101]\ttrain-rmse:0.022175\ttest-rmse:0.117781 \n",
            "[102]\ttrain-rmse:0.022163\ttest-rmse:0.117782 \n",
            "[103]\ttrain-rmse:0.022149\ttest-rmse:0.117784 \n",
            "[104]\ttrain-rmse:0.022123\ttest-rmse:0.117793 \n",
            "[105]\ttrain-rmse:0.022097\ttest-rmse:0.117848 \n",
            "[106]\ttrain-rmse:0.022053\ttest-rmse:0.117841 \n",
            "[107]\ttrain-rmse:0.022048\ttest-rmse:0.117844 \n",
            "[108]\ttrain-rmse:0.022022\ttest-rmse:0.117839 \n",
            "[109]\ttrain-rmse:0.022008\ttest-rmse:0.117849 \n",
            "[110]\ttrain-rmse:0.022002\ttest-rmse:0.117877 \n",
            "[111]\ttrain-rmse:0.021999\ttest-rmse:0.117881 \n",
            "[112]\ttrain-rmse:0.021979\ttest-rmse:0.117906 \n",
            "[113]\ttrain-rmse:0.021959\ttest-rmse:0.117907 \n",
            "[114]\ttrain-rmse:0.021940\ttest-rmse:0.117913 \n",
            "[115]\ttrain-rmse:0.021932\ttest-rmse:0.117912 \n",
            "[116]\ttrain-rmse:0.021911\ttest-rmse:0.117912 \n",
            "[117]\ttrain-rmse:0.021890\ttest-rmse:0.117915 \n",
            "[118]\ttrain-rmse:0.021883\ttest-rmse:0.117924 \n",
            "[119]\ttrain-rmse:0.021859\ttest-rmse:0.117939 \n",
            "[120]\ttrain-rmse:0.021854\ttest-rmse:0.117969 \n",
            "[121]\ttrain-rmse:0.021827\ttest-rmse:0.117964 \n",
            "[122]\ttrain-rmse:0.021812\ttest-rmse:0.117980 \n",
            "[123]\ttrain-rmse:0.021805\ttest-rmse:0.117979 \n",
            "[124]\ttrain-rmse:0.021800\ttest-rmse:0.117973 \n",
            "[125]\ttrain-rmse:0.021785\ttest-rmse:0.118012 \n",
            "[126]\ttrain-rmse:0.021775\ttest-rmse:0.117994 \n",
            "[127]\ttrain-rmse:0.021757\ttest-rmse:0.117986 \n",
            "[128]\ttrain-rmse:0.021751\ttest-rmse:0.117968 \n",
            "[129]\ttrain-rmse:0.021743\ttest-rmse:0.117965 \n",
            "[130]\ttrain-rmse:0.021726\ttest-rmse:0.117956 \n",
            "[131]\ttrain-rmse:0.021717\ttest-rmse:0.117956 \n",
            "[132]\ttrain-rmse:0.021704\ttest-rmse:0.117944 \n",
            "[133]\ttrain-rmse:0.021699\ttest-rmse:0.117927 \n",
            "[134]\ttrain-rmse:0.021697\ttest-rmse:0.117928 \n",
            "[135]\ttrain-rmse:0.021697\ttest-rmse:0.117925 \n",
            "[136]\ttrain-rmse:0.021694\ttest-rmse:0.117909 \n",
            "[137]\ttrain-rmse:0.021682\ttest-rmse:0.117891 \n",
            "[138]\ttrain-rmse:0.021681\ttest-rmse:0.117893 \n",
            "[139]\ttrain-rmse:0.021678\ttest-rmse:0.117891 \n",
            "[140]\ttrain-rmse:0.021671\ttest-rmse:0.117891 \n",
            "[141]\ttrain-rmse:0.021667\ttest-rmse:0.117886 \n",
            "[142]\ttrain-rmse:0.021665\ttest-rmse:0.117878 \n",
            "[143]\ttrain-rmse:0.021656\ttest-rmse:0.117890 \n",
            "[144]\ttrain-rmse:0.021644\ttest-rmse:0.117858 \n",
            "[145]\ttrain-rmse:0.021640\ttest-rmse:0.117845 \n",
            "[146]\ttrain-rmse:0.021634\ttest-rmse:0.117845 \n",
            "[147]\ttrain-rmse:0.021630\ttest-rmse:0.117843 \n",
            "[148]\ttrain-rmse:0.021627\ttest-rmse:0.117853 \n",
            "[149]\ttrain-rmse:0.021623\ttest-rmse:0.117840 \n",
            "[150]\ttrain-rmse:0.021620\ttest-rmse:0.117840 \n",
            "[151]\ttrain-rmse:0.021606\ttest-rmse:0.117808 \n",
            "[152]\ttrain-rmse:0.021602\ttest-rmse:0.117804 \n",
            "[153]\ttrain-rmse:0.021600\ttest-rmse:0.117801 \n",
            "[154]\ttrain-rmse:0.021596\ttest-rmse:0.117806 \n",
            "[155]\ttrain-rmse:0.021594\ttest-rmse:0.117804 \n",
            "[156]\ttrain-rmse:0.021593\ttest-rmse:0.117802 \n",
            "[157]\ttrain-rmse:0.021590\ttest-rmse:0.117804 \n",
            "[158]\ttrain-rmse:0.021585\ttest-rmse:0.117808 \n",
            "[159]\ttrain-rmse:0.021579\ttest-rmse:0.117818 \n",
            "[160]\ttrain-rmse:0.021579\ttest-rmse:0.117817 \n",
            "[161]\ttrain-rmse:0.021575\ttest-rmse:0.117810 \n",
            "[162]\ttrain-rmse:0.021574\ttest-rmse:0.117809 \n",
            "[163]\ttrain-rmse:0.021574\ttest-rmse:0.117806 \n",
            "[164]\ttrain-rmse:0.021571\ttest-rmse:0.117807 \n",
            "[165]\ttrain-rmse:0.021568\ttest-rmse:0.117808 \n",
            "[166]\ttrain-rmse:0.021564\ttest-rmse:0.117808 \n",
            "[167]\ttrain-rmse:0.021563\ttest-rmse:0.117806 \n",
            "[168]\ttrain-rmse:0.021558\ttest-rmse:0.117810 \n",
            "[169]\ttrain-rmse:0.021557\ttest-rmse:0.117809 \n",
            "[170]\ttrain-rmse:0.021557\ttest-rmse:0.117809 \n",
            "[171]\ttrain-rmse:0.021554\ttest-rmse:0.117811 \n",
            "[172]\ttrain-rmse:0.021552\ttest-rmse:0.117808 \n",
            "[173]\ttrain-rmse:0.021550\ttest-rmse:0.117804 \n",
            "[174]\ttrain-rmse:0.021548\ttest-rmse:0.117803 \n",
            "[175]\ttrain-rmse:0.021548\ttest-rmse:0.117802 \n",
            "[176]\ttrain-rmse:0.021546\ttest-rmse:0.117801 \n",
            "[177]\ttrain-rmse:0.021543\ttest-rmse:0.117786 \n",
            "[178]\ttrain-rmse:0.021543\ttest-rmse:0.117787 \n",
            "[179]\ttrain-rmse:0.021541\ttest-rmse:0.117780 \n",
            "[180]\ttrain-rmse:0.021540\ttest-rmse:0.117769 \n",
            "[181]\ttrain-rmse:0.021539\ttest-rmse:0.117768 \n",
            "[182]\ttrain-rmse:0.021537\ttest-rmse:0.117776 \n",
            "[183]\ttrain-rmse:0.021535\ttest-rmse:0.117766 \n",
            "[184]\ttrain-rmse:0.021534\ttest-rmse:0.117764 \n",
            "[185]\ttrain-rmse:0.021533\ttest-rmse:0.117767 \n",
            "[186]\ttrain-rmse:0.021530\ttest-rmse:0.117757 \n",
            "[187]\ttrain-rmse:0.021530\ttest-rmse:0.117749 \n",
            "[188]\ttrain-rmse:0.021530\ttest-rmse:0.117749 \n",
            "[189]\ttrain-rmse:0.021530\ttest-rmse:0.117749 \n",
            "[190]\ttrain-rmse:0.021530\ttest-rmse:0.117749 \n",
            "[191]\ttrain-rmse:0.021530\ttest-rmse:0.117749 \n",
            "[192]\ttrain-rmse:0.021530\ttest-rmse:0.117749 \n",
            "[193]\ttrain-rmse:0.021530\ttest-rmse:0.117749 \n",
            "[194]\ttrain-rmse:0.021530\ttest-rmse:0.117749 \n",
            "[195]\ttrain-rmse:0.021530\ttest-rmse:0.117749 \n",
            "[196]\ttrain-rmse:0.021530\ttest-rmse:0.117749 \n",
            "[197]\ttrain-rmse:0.021530\ttest-rmse:0.117749 \n",
            "[198]\ttrain-rmse:0.021530\ttest-rmse:0.117749 \n",
            "[199]\ttrain-rmse:0.021530\ttest-rmse:0.117749 \n",
            "[200]\ttrain-rmse:0.021530\ttest-rmse:0.117749 \n",
            "[201]\ttrain-rmse:0.021530\ttest-rmse:0.117749 \n",
            "[202]\ttrain-rmse:0.021530\ttest-rmse:0.117749 \n",
            "[203]\ttrain-rmse:0.021530\ttest-rmse:0.117749 \n",
            "[204]\ttrain-rmse:0.021530\ttest-rmse:0.117749 \n",
            "[205]\ttrain-rmse:0.021530\ttest-rmse:0.117749 \n",
            "[206]\ttrain-rmse:0.021530\ttest-rmse:0.117749 \n",
            "[207]\ttrain-rmse:0.021530\ttest-rmse:0.117749 \n",
            "[208]\ttrain-rmse:0.021530\ttest-rmse:0.117749 \n",
            "[209]\ttrain-rmse:0.021530\ttest-rmse:0.117749 \n",
            "[210]\ttrain-rmse:0.021530\ttest-rmse:0.117749 \n",
            "[211]\ttrain-rmse:0.021530\ttest-rmse:0.117749 \n",
            "[212]\ttrain-rmse:0.021530\ttest-rmse:0.117749 \n",
            "[213]\ttrain-rmse:0.021530\ttest-rmse:0.117749 \n",
            "[214]\ttrain-rmse:0.021530\ttest-rmse:0.117749 \n",
            "[215]\ttrain-rmse:0.021530\ttest-rmse:0.117749 \n",
            "[216]\ttrain-rmse:0.021530\ttest-rmse:0.117749 \n",
            "[217]\ttrain-rmse:0.021530\ttest-rmse:0.117749 \n",
            "[218]\ttrain-rmse:0.021530\ttest-rmse:0.117749 \n",
            "[219]\ttrain-rmse:0.021530\ttest-rmse:0.117749 \n",
            "[220]\ttrain-rmse:0.021530\ttest-rmse:0.117749 \n",
            "[221]\ttrain-rmse:0.021530\ttest-rmse:0.117749 \n",
            "[222]\ttrain-rmse:0.021530\ttest-rmse:0.117749 \n",
            "[223]\ttrain-rmse:0.021530\ttest-rmse:0.117749 \n",
            "[224]\ttrain-rmse:0.021530\ttest-rmse:0.117749 \n",
            "[225]\ttrain-rmse:0.021530\ttest-rmse:0.117749 \n",
            "[226]\ttrain-rmse:0.021530\ttest-rmse:0.117749 \n",
            "[227]\ttrain-rmse:0.021530\ttest-rmse:0.117749 \n",
            "[228]\ttrain-rmse:0.021530\ttest-rmse:0.117749 \n",
            "[229]\ttrain-rmse:0.021530\ttest-rmse:0.117749 \n",
            "[230]\ttrain-rmse:0.021530\ttest-rmse:0.117749 \n",
            "[231]\ttrain-rmse:0.021530\ttest-rmse:0.117749 \n",
            "[232]\ttrain-rmse:0.021530\ttest-rmse:0.117749 \n",
            "[233]\ttrain-rmse:0.021530\ttest-rmse:0.117749 \n",
            "[234]\ttrain-rmse:0.021530\ttest-rmse:0.117749 \n",
            "[235]\ttrain-rmse:0.021530\ttest-rmse:0.117749 \n",
            "[236]\ttrain-rmse:0.021530\ttest-rmse:0.117749 \n",
            "[237]\ttrain-rmse:0.021530\ttest-rmse:0.117749 \n",
            "[238]\ttrain-rmse:0.021530\ttest-rmse:0.117749 \n",
            "[239]\ttrain-rmse:0.021530\ttest-rmse:0.117749 \n",
            "[240]\ttrain-rmse:0.021530\ttest-rmse:0.117749 \n",
            "[241]\ttrain-rmse:0.021530\ttest-rmse:0.117749 \n",
            "[242]\ttrain-rmse:0.021530\ttest-rmse:0.117749 \n",
            "[243]\ttrain-rmse:0.021530\ttest-rmse:0.117749 \n",
            "[244]\ttrain-rmse:0.021530\ttest-rmse:0.117749 \n",
            "[245]\ttrain-rmse:0.021530\ttest-rmse:0.117749 \n",
            "[246]\ttrain-rmse:0.021530\ttest-rmse:0.117749 \n",
            "[247]\ttrain-rmse:0.021530\ttest-rmse:0.117749 \n",
            "[248]\ttrain-rmse:0.021530\ttest-rmse:0.117749 \n",
            "[249]\ttrain-rmse:0.021530\ttest-rmse:0.117749 \n",
            "[250]\ttrain-rmse:0.021530\ttest-rmse:0.117749 \n",
            "[251]\ttrain-rmse:0.021530\ttest-rmse:0.117749 \n",
            "[252]\ttrain-rmse:0.021530\ttest-rmse:0.117749 \n",
            "[253]\ttrain-rmse:0.021530\ttest-rmse:0.117749 \n",
            "[254]\ttrain-rmse:0.021530\ttest-rmse:0.117749 \n",
            "[255]\ttrain-rmse:0.021530\ttest-rmse:0.117749 \n",
            "[256]\ttrain-rmse:0.021530\ttest-rmse:0.117749 \n",
            "[257]\ttrain-rmse:0.021530\ttest-rmse:0.117749 \n",
            "[258]\ttrain-rmse:0.021530\ttest-rmse:0.117749 \n",
            "[259]\ttrain-rmse:0.021530\ttest-rmse:0.117749 \n",
            "[260]\ttrain-rmse:0.021530\ttest-rmse:0.117749 \n",
            "[261]\ttrain-rmse:0.021530\ttest-rmse:0.117749 \n",
            "[262]\ttrain-rmse:0.021530\ttest-rmse:0.117749 \n",
            "[263]\ttrain-rmse:0.021530\ttest-rmse:0.117749 \n",
            "[264]\ttrain-rmse:0.021530\ttest-rmse:0.117749 \n",
            "[265]\ttrain-rmse:0.021530\ttest-rmse:0.117749 \n",
            "[266]\ttrain-rmse:0.021530\ttest-rmse:0.117749 \n",
            "[267]\ttrain-rmse:0.021530\ttest-rmse:0.117749 \n",
            "[268]\ttrain-rmse:0.021530\ttest-rmse:0.117749 \n",
            "[269]\ttrain-rmse:0.021530\ttest-rmse:0.117749 \n",
            "[270]\ttrain-rmse:0.021530\ttest-rmse:0.117749 \n",
            "[271]\ttrain-rmse:0.021530\ttest-rmse:0.117749 \n",
            "[272]\ttrain-rmse:0.021530\ttest-rmse:0.117749 \n",
            "[273]\ttrain-rmse:0.021530\ttest-rmse:0.117749 \n",
            "[274]\ttrain-rmse:0.021530\ttest-rmse:0.117749 \n",
            "[275]\ttrain-rmse:0.021530\ttest-rmse:0.117749 \n",
            "[276]\ttrain-rmse:0.021530\ttest-rmse:0.117749 \n",
            "[277]\ttrain-rmse:0.021530\ttest-rmse:0.117749 \n",
            "[278]\ttrain-rmse:0.021530\ttest-rmse:0.117749 \n",
            "[279]\ttrain-rmse:0.021530\ttest-rmse:0.117749 \n",
            "[280]\ttrain-rmse:0.021530\ttest-rmse:0.117749 \n",
            "[281]\ttrain-rmse:0.021530\ttest-rmse:0.117749 \n",
            "[282]\ttrain-rmse:0.021530\ttest-rmse:0.117749 \n",
            "[283]\ttrain-rmse:0.021530\ttest-rmse:0.117749 \n",
            "[284]\ttrain-rmse:0.021530\ttest-rmse:0.117749 \n",
            "[285]\ttrain-rmse:0.021530\ttest-rmse:0.117749 \n",
            "[286]\ttrain-rmse:0.021530\ttest-rmse:0.117749 \n",
            "[287]\ttrain-rmse:0.021530\ttest-rmse:0.117749 \n",
            "[288]\ttrain-rmse:0.021530\ttest-rmse:0.117749 \n",
            "[289]\ttrain-rmse:0.021530\ttest-rmse:0.117749 \n",
            "[290]\ttrain-rmse:0.021530\ttest-rmse:0.117749 \n",
            "[291]\ttrain-rmse:0.021530\ttest-rmse:0.117749 \n",
            "[292]\ttrain-rmse:0.021530\ttest-rmse:0.117749 \n",
            "[293]\ttrain-rmse:0.021530\ttest-rmse:0.117749 \n",
            "[294]\ttrain-rmse:0.021530\ttest-rmse:0.117749 \n",
            "[295]\ttrain-rmse:0.021530\ttest-rmse:0.117749 \n",
            "[296]\ttrain-rmse:0.021530\ttest-rmse:0.117749 \n",
            "[297]\ttrain-rmse:0.021530\ttest-rmse:0.117749 \n",
            "[298]\ttrain-rmse:0.021530\ttest-rmse:0.117749 \n",
            "[299]\ttrain-rmse:0.021530\ttest-rmse:0.117749 \n",
            "[300]\ttrain-rmse:0.021530\ttest-rmse:0.117749 \n",
            "[301]\ttrain-rmse:0.021530\ttest-rmse:0.117749 \n",
            "[302]\ttrain-rmse:0.021530\ttest-rmse:0.117749 \n",
            "[303]\ttrain-rmse:0.021530\ttest-rmse:0.117749 \n",
            "[304]\ttrain-rmse:0.021530\ttest-rmse:0.117749 \n",
            "[305]\ttrain-rmse:0.021530\ttest-rmse:0.117749 \n",
            "[306]\ttrain-rmse:0.021530\ttest-rmse:0.117749 \n",
            "[307]\ttrain-rmse:0.021530\ttest-rmse:0.117749 \n",
            "[308]\ttrain-rmse:0.021530\ttest-rmse:0.117749 \n",
            "[309]\ttrain-rmse:0.021530\ttest-rmse:0.117749 \n",
            "[310]\ttrain-rmse:0.021530\ttest-rmse:0.117749 \n",
            "[311]\ttrain-rmse:0.021530\ttest-rmse:0.117749 \n",
            "[312]\ttrain-rmse:0.021530\ttest-rmse:0.117749 \n",
            "[313]\ttrain-rmse:0.021530\ttest-rmse:0.117749 \n",
            "[314]\ttrain-rmse:0.021530\ttest-rmse:0.117749 \n",
            "[315]\ttrain-rmse:0.021530\ttest-rmse:0.117749 \n",
            "[316]\ttrain-rmse:0.021530\ttest-rmse:0.117749 \n",
            "[317]\ttrain-rmse:0.021530\ttest-rmse:0.117749 \n",
            "[318]\ttrain-rmse:0.021530\ttest-rmse:0.117749 \n",
            "[319]\ttrain-rmse:0.021530\ttest-rmse:0.117749 \n",
            "[320]\ttrain-rmse:0.021530\ttest-rmse:0.117749 \n",
            "[321]\ttrain-rmse:0.021530\ttest-rmse:0.117749 \n",
            "[322]\ttrain-rmse:0.021530\ttest-rmse:0.117749 \n",
            "[323]\ttrain-rmse:0.021530\ttest-rmse:0.117749 \n",
            "[324]\ttrain-rmse:0.021530\ttest-rmse:0.117749 \n",
            "[325]\ttrain-rmse:0.021530\ttest-rmse:0.117749 \n",
            "[326]\ttrain-rmse:0.021530\ttest-rmse:0.117749 \n",
            "[327]\ttrain-rmse:0.021530\ttest-rmse:0.117749 \n",
            "[328]\ttrain-rmse:0.021530\ttest-rmse:0.117749 \n",
            "[329]\ttrain-rmse:0.021530\ttest-rmse:0.117749 \n",
            "[330]\ttrain-rmse:0.021530\ttest-rmse:0.117749 \n",
            "[331]\ttrain-rmse:0.021530\ttest-rmse:0.117749 \n",
            "[332]\ttrain-rmse:0.021530\ttest-rmse:0.117749 \n",
            "[333]\ttrain-rmse:0.021530\ttest-rmse:0.117749 \n",
            "[334]\ttrain-rmse:0.021530\ttest-rmse:0.117749 \n",
            "[335]\ttrain-rmse:0.021530\ttest-rmse:0.117749 \n",
            "[336]\ttrain-rmse:0.021530\ttest-rmse:0.117749 \n",
            "[337]\ttrain-rmse:0.021530\ttest-rmse:0.117749 \n",
            "[338]\ttrain-rmse:0.021530\ttest-rmse:0.117749 \n",
            "[339]\ttrain-rmse:0.021530\ttest-rmse:0.117749 \n",
            "[340]\ttrain-rmse:0.021530\ttest-rmse:0.117749 \n",
            "[341]\ttrain-rmse:0.021530\ttest-rmse:0.117749 \n",
            "[342]\ttrain-rmse:0.021530\ttest-rmse:0.117749 \n",
            "[343]\ttrain-rmse:0.021530\ttest-rmse:0.117749 \n",
            "[344]\ttrain-rmse:0.021530\ttest-rmse:0.117749 \n",
            "[345]\ttrain-rmse:0.021530\ttest-rmse:0.117749 \n",
            "[346]\ttrain-rmse:0.021530\ttest-rmse:0.117749 \n",
            "[347]\ttrain-rmse:0.021530\ttest-rmse:0.117749 \n",
            "[348]\ttrain-rmse:0.021530\ttest-rmse:0.117749 \n",
            "[349]\ttrain-rmse:0.021530\ttest-rmse:0.117749 \n",
            "[350]\ttrain-rmse:0.021530\ttest-rmse:0.117749 \n",
            "[351]\ttrain-rmse:0.021530\ttest-rmse:0.117749 \n",
            "[352]\ttrain-rmse:0.021530\ttest-rmse:0.117749 \n",
            "[353]\ttrain-rmse:0.021530\ttest-rmse:0.117749 \n",
            "[354]\ttrain-rmse:0.021530\ttest-rmse:0.117749 \n",
            "[355]\ttrain-rmse:0.021530\ttest-rmse:0.117749 \n",
            "[356]\ttrain-rmse:0.021530\ttest-rmse:0.117749 \n",
            "[357]\ttrain-rmse:0.021530\ttest-rmse:0.117749 \n",
            "[358]\ttrain-rmse:0.021530\ttest-rmse:0.117749 \n",
            "[359]\ttrain-rmse:0.021530\ttest-rmse:0.117749 \n",
            "[360]\ttrain-rmse:0.021530\ttest-rmse:0.117749 \n",
            "[361]\ttrain-rmse:0.021530\ttest-rmse:0.117749 \n",
            "[362]\ttrain-rmse:0.021530\ttest-rmse:0.117749 \n",
            "[363]\ttrain-rmse:0.021530\ttest-rmse:0.117749 \n",
            "[364]\ttrain-rmse:0.021530\ttest-rmse:0.117749 \n",
            "[365]\ttrain-rmse:0.021530\ttest-rmse:0.117749 \n",
            "[366]\ttrain-rmse:0.021530\ttest-rmse:0.117749 \n",
            "[367]\ttrain-rmse:0.021530\ttest-rmse:0.117749 \n",
            "[368]\ttrain-rmse:0.021530\ttest-rmse:0.117749 \n",
            "[369]\ttrain-rmse:0.021530\ttest-rmse:0.117749 \n",
            "[370]\ttrain-rmse:0.021530\ttest-rmse:0.117749 \n",
            "[371]\ttrain-rmse:0.021530\ttest-rmse:0.117749 \n",
            "[372]\ttrain-rmse:0.021530\ttest-rmse:0.117749 \n",
            "[373]\ttrain-rmse:0.021530\ttest-rmse:0.117749 \n",
            "[374]\ttrain-rmse:0.021530\ttest-rmse:0.117749 \n",
            "[375]\ttrain-rmse:0.021530\ttest-rmse:0.117749 \n",
            "[376]\ttrain-rmse:0.021530\ttest-rmse:0.117749 \n",
            "[377]\ttrain-rmse:0.021530\ttest-rmse:0.117749 \n",
            "[378]\ttrain-rmse:0.021530\ttest-rmse:0.117749 \n",
            "[379]\ttrain-rmse:0.021530\ttest-rmse:0.117749 \n",
            "[380]\ttrain-rmse:0.021530\ttest-rmse:0.117749 \n",
            "[381]\ttrain-rmse:0.021530\ttest-rmse:0.117749 \n",
            "[382]\ttrain-rmse:0.021530\ttest-rmse:0.117749 \n",
            "[383]\ttrain-rmse:0.021530\ttest-rmse:0.117749 \n",
            "[384]\ttrain-rmse:0.021530\ttest-rmse:0.117749 \n",
            "[385]\ttrain-rmse:0.021530\ttest-rmse:0.117749 \n",
            "[386]\ttrain-rmse:0.021530\ttest-rmse:0.117749 \n",
            "[387]\ttrain-rmse:0.021530\ttest-rmse:0.117749 \n",
            "[388]\ttrain-rmse:0.021530\ttest-rmse:0.117749 \n",
            "[389]\ttrain-rmse:0.021530\ttest-rmse:0.117749 \n",
            "[390]\ttrain-rmse:0.021530\ttest-rmse:0.117749 \n",
            "[391]\ttrain-rmse:0.021530\ttest-rmse:0.117749 \n",
            "[392]\ttrain-rmse:0.021530\ttest-rmse:0.117749 \n",
            "[393]\ttrain-rmse:0.021530\ttest-rmse:0.117749 \n",
            "[394]\ttrain-rmse:0.021530\ttest-rmse:0.117749 \n",
            "[395]\ttrain-rmse:0.021530\ttest-rmse:0.117749 \n",
            "[396]\ttrain-rmse:0.021530\ttest-rmse:0.117749 \n",
            "[397]\ttrain-rmse:0.021530\ttest-rmse:0.117749 \n",
            "[398]\ttrain-rmse:0.021530\ttest-rmse:0.117749 \n",
            "[399]\ttrain-rmse:0.021530\ttest-rmse:0.117749 \n",
            "[400]\ttrain-rmse:0.021530\ttest-rmse:0.117749 \n",
            "[401]\ttrain-rmse:0.021530\ttest-rmse:0.117749 \n",
            "[402]\ttrain-rmse:0.021530\ttest-rmse:0.117749 \n",
            "[403]\ttrain-rmse:0.021530\ttest-rmse:0.117749 \n",
            "[404]\ttrain-rmse:0.021530\ttest-rmse:0.117749 \n",
            "[405]\ttrain-rmse:0.021530\ttest-rmse:0.117749 \n",
            "[406]\ttrain-rmse:0.021530\ttest-rmse:0.117749 \n",
            "[407]\ttrain-rmse:0.021530\ttest-rmse:0.117749 \n",
            "[408]\ttrain-rmse:0.021530\ttest-rmse:0.117749 \n",
            "[409]\ttrain-rmse:0.021530\ttest-rmse:0.117749 \n",
            "[410]\ttrain-rmse:0.021530\ttest-rmse:0.117749 \n",
            "[411]\ttrain-rmse:0.021530\ttest-rmse:0.117749 \n",
            "[412]\ttrain-rmse:0.021530\ttest-rmse:0.117749 \n",
            "[413]\ttrain-rmse:0.021530\ttest-rmse:0.117749 \n",
            "[414]\ttrain-rmse:0.021530\ttest-rmse:0.117749 \n",
            "[415]\ttrain-rmse:0.021530\ttest-rmse:0.117749 \n",
            "[416]\ttrain-rmse:0.021530\ttest-rmse:0.117749 \n",
            "[417]\ttrain-rmse:0.021530\ttest-rmse:0.117749 \n",
            "[418]\ttrain-rmse:0.021530\ttest-rmse:0.117749 \n",
            "[419]\ttrain-rmse:0.021530\ttest-rmse:0.117749 \n",
            "[420]\ttrain-rmse:0.021530\ttest-rmse:0.117749 \n",
            "[421]\ttrain-rmse:0.021530\ttest-rmse:0.117749 \n",
            "[422]\ttrain-rmse:0.021530\ttest-rmse:0.117749 \n",
            "[423]\ttrain-rmse:0.021530\ttest-rmse:0.117749 \n",
            "[424]\ttrain-rmse:0.021530\ttest-rmse:0.117749 \n",
            "[425]\ttrain-rmse:0.021530\ttest-rmse:0.117749 \n",
            "[426]\ttrain-rmse:0.021530\ttest-rmse:0.117749 \n",
            "[427]\ttrain-rmse:0.021530\ttest-rmse:0.117749 \n",
            "[428]\ttrain-rmse:0.021530\ttest-rmse:0.117749 \n",
            "[429]\ttrain-rmse:0.021530\ttest-rmse:0.117749 \n",
            "[430]\ttrain-rmse:0.021530\ttest-rmse:0.117749 \n",
            "[431]\ttrain-rmse:0.021530\ttest-rmse:0.117749 \n",
            "[432]\ttrain-rmse:0.021530\ttest-rmse:0.117749 \n",
            "[433]\ttrain-rmse:0.021530\ttest-rmse:0.117749 \n",
            "[434]\ttrain-rmse:0.021530\ttest-rmse:0.117749 \n",
            "[435]\ttrain-rmse:0.021530\ttest-rmse:0.117749 \n",
            "[436]\ttrain-rmse:0.021530\ttest-rmse:0.117749 \n",
            "[437]\ttrain-rmse:0.021530\ttest-rmse:0.117749 \n",
            "[438]\ttrain-rmse:0.021530\ttest-rmse:0.117749 \n",
            "[439]\ttrain-rmse:0.021530\ttest-rmse:0.117749 \n",
            "[440]\ttrain-rmse:0.021530\ttest-rmse:0.117749 \n",
            "[441]\ttrain-rmse:0.021530\ttest-rmse:0.117749 \n",
            "[442]\ttrain-rmse:0.021530\ttest-rmse:0.117749 \n",
            "[443]\ttrain-rmse:0.021530\ttest-rmse:0.117749 \n",
            "[444]\ttrain-rmse:0.021530\ttest-rmse:0.117749 \n",
            "[445]\ttrain-rmse:0.021530\ttest-rmse:0.117749 \n",
            "[446]\ttrain-rmse:0.021530\ttest-rmse:0.117749 \n",
            "[447]\ttrain-rmse:0.021530\ttest-rmse:0.117749 \n",
            "[448]\ttrain-rmse:0.021530\ttest-rmse:0.117749 \n",
            "[449]\ttrain-rmse:0.021530\ttest-rmse:0.117749 \n",
            "[450]\ttrain-rmse:0.021530\ttest-rmse:0.117749 \n",
            "[451]\ttrain-rmse:0.021530\ttest-rmse:0.117749 \n",
            "[452]\ttrain-rmse:0.021530\ttest-rmse:0.117749 \n",
            "[453]\ttrain-rmse:0.021530\ttest-rmse:0.117749 \n",
            "[454]\ttrain-rmse:0.021530\ttest-rmse:0.117749 \n",
            "[455]\ttrain-rmse:0.021530\ttest-rmse:0.117749 \n",
            "[456]\ttrain-rmse:0.021530\ttest-rmse:0.117749 \n",
            "[457]\ttrain-rmse:0.021530\ttest-rmse:0.117749 \n",
            "[458]\ttrain-rmse:0.021530\ttest-rmse:0.117749 \n",
            "[459]\ttrain-rmse:0.021530\ttest-rmse:0.117749 \n",
            "[460]\ttrain-rmse:0.021530\ttest-rmse:0.117749 \n",
            "[461]\ttrain-rmse:0.021530\ttest-rmse:0.117749 \n",
            "[462]\ttrain-rmse:0.021530\ttest-rmse:0.117749 \n",
            "[463]\ttrain-rmse:0.021530\ttest-rmse:0.117749 \n",
            "[464]\ttrain-rmse:0.021530\ttest-rmse:0.117749 \n",
            "[465]\ttrain-rmse:0.021530\ttest-rmse:0.117749 \n",
            "[466]\ttrain-rmse:0.021530\ttest-rmse:0.117749 \n",
            "[467]\ttrain-rmse:0.021530\ttest-rmse:0.117749 \n",
            "[468]\ttrain-rmse:0.021530\ttest-rmse:0.117749 \n",
            "[469]\ttrain-rmse:0.021530\ttest-rmse:0.117749 \n",
            "[470]\ttrain-rmse:0.021530\ttest-rmse:0.117749 \n",
            "[471]\ttrain-rmse:0.021530\ttest-rmse:0.117749 \n",
            "[472]\ttrain-rmse:0.021530\ttest-rmse:0.117749 \n",
            "[473]\ttrain-rmse:0.021530\ttest-rmse:0.117749 \n",
            "[474]\ttrain-rmse:0.021530\ttest-rmse:0.117749 \n",
            "[475]\ttrain-rmse:0.021530\ttest-rmse:0.117749 \n",
            "[476]\ttrain-rmse:0.021530\ttest-rmse:0.117749 \n",
            "[477]\ttrain-rmse:0.021530\ttest-rmse:0.117749 \n",
            "[478]\ttrain-rmse:0.021530\ttest-rmse:0.117749 \n",
            "[479]\ttrain-rmse:0.021530\ttest-rmse:0.117749 \n",
            "[480]\ttrain-rmse:0.021530\ttest-rmse:0.117749 \n",
            "[481]\ttrain-rmse:0.021530\ttest-rmse:0.117749 \n",
            "[482]\ttrain-rmse:0.021530\ttest-rmse:0.117749 \n",
            "[483]\ttrain-rmse:0.021530\ttest-rmse:0.117749 \n",
            "[484]\ttrain-rmse:0.021530\ttest-rmse:0.117749 \n",
            "[485]\ttrain-rmse:0.021530\ttest-rmse:0.117749 \n",
            "[486]\ttrain-rmse:0.021530\ttest-rmse:0.117749 \n",
            "[487]\ttrain-rmse:0.021530\ttest-rmse:0.117749 \n",
            "[488]\ttrain-rmse:0.021530\ttest-rmse:0.117749 \n",
            "[489]\ttrain-rmse:0.021530\ttest-rmse:0.117749 \n",
            "[490]\ttrain-rmse:0.021530\ttest-rmse:0.117749 \n",
            "[491]\ttrain-rmse:0.021530\ttest-rmse:0.117749 \n",
            "[492]\ttrain-rmse:0.021530\ttest-rmse:0.117749 \n",
            "[493]\ttrain-rmse:0.021530\ttest-rmse:0.117749 \n",
            "[494]\ttrain-rmse:0.021530\ttest-rmse:0.117749 \n",
            "[495]\ttrain-rmse:0.021530\ttest-rmse:0.117749 \n",
            "[496]\ttrain-rmse:0.021530\ttest-rmse:0.117749 \n",
            "[497]\ttrain-rmse:0.021530\ttest-rmse:0.117749 \n",
            "[498]\ttrain-rmse:0.021530\ttest-rmse:0.117749 \n",
            "[499]\ttrain-rmse:0.021530\ttest-rmse:0.117749 \n",
            "[500]\ttrain-rmse:0.021530\ttest-rmse:0.117749 \n"
          ]
        }
      ]
    },
    {
      "cell_type": "code",
      "source": [
        "#RMSE is min at 95,after which it starts increasing indicating overfitting\n",
        "final_model = xgboost(data = xgboost_train, max.depth = 5, nrounds = 335, verbose = 0)\n",
        "pred_test = predict(final_model, xgboost_test)\n",
        "importance_matrix <- xgb.importance(names(x_train), model = final_model)\n",
        "xgb.plot.importance(importance_matrix)"
      ],
      "metadata": {
        "id": "IuZKiRlLJ2kQ",
        "colab": {
          "base_uri": "https://localhost:8080/",
          "height": 437
        },
        "outputId": "df9cc200-0d49-4a5b-f093-2bc7ea06f195"
      },
      "execution_count": 29,
      "outputs": [
        {
          "output_type": "display_data",
          "data": {
            "text/plain": [
              "plot without title"
            ],
            "image/png": "[encoded data removed]"
          },
          "metadata": {
            "image/png": {
              "width": 420,
              "height": 420
            }
          }
        }
      ]
    },
    {
      "cell_type": "code",
      "source": [
        "#min & max (pred_test) then factorization for confusion matrix\n",
        "pred_test[pred_test>0.4 & pred_test<1.2]=1\n",
        "pred_test[pred_test>1.2 & pred_test<2.1]=2\n",
        "pred_test[pred_test>2.1 & pred_test<3.1]=3\n"
      ],
      "metadata": {
        "id": "b5qNWc0aJ8zV"
      },
      "execution_count": 30,
      "outputs": []
    },
    {
      "cell_type": "markdown",
      "source": [
        "###Confusion Matrix"
      ],
      "metadata": {
        "id": "_BKAO3y6ZqjN"
      }
    },
    {
      "cell_type": "code",
      "source": [
        "#Confusion Matrix\n",
        "cm1=table(pred_test,y_test)\n",
        "print(cm1)\n",
        "print(confusionMatrix(as.factor(pred_test),as.factor(y_test)))"
      ],
      "metadata": {
        "id": "DgkSedYBKBOU",
        "colab": {
          "base_uri": "https://localhost:8080/"
        },
        "outputId": "703c3b70-4edb-48ca-fef4-e430b2381260"
      },
      "execution_count": 31,
      "outputs": [
        {
          "output_type": "stream",
          "name": "stdout",
          "text": [
            "         y_test\n",
            "pred_test   1   2   3\n",
            "        1 305   0   0\n",
            "        2  21 320   0\n",
            "        3   1   0 292\n",
            "Confusion Matrix and Statistics\n",
            "\n",
            "          Reference\n",
            "Prediction   1   2   3\n",
            "         1 305   0   0\n",
            "         2  21 320   0\n",
            "         3   1   0 292\n",
            "\n",
            "Overall Statistics\n",
            "                                          \n",
            "               Accuracy : 0.9766          \n",
            "                 95% CI : (0.9647, 0.9853)\n",
            "    No Information Rate : 0.3482          \n",
            "    P-Value [Acc > NIR] : < 2.2e-16       \n",
            "                                          \n",
            "                  Kappa : 0.9648          \n",
            "                                          \n",
            " Mcnemar's Test P-Value : NA              \n",
            "\n",
            "Statistics by Class:\n",
            "\n",
            "                     Class: 1 Class: 2 Class: 3\n",
            "Sensitivity            0.9327   1.0000   1.0000\n",
            "Specificity            1.0000   0.9661   0.9985\n",
            "Pos Pred Value         1.0000   0.9384   0.9966\n",
            "Neg Pred Value         0.9653   1.0000   1.0000\n",
            "Prevalence             0.3482   0.3408   0.3110\n",
            "Detection Rate         0.3248   0.3408   0.3110\n",
            "Detection Prevalence   0.3248   0.3632   0.3120\n",
            "Balanced Accuracy      0.9664   0.9830   0.9992\n"
          ]
        }
      ]
    }
  ]
}